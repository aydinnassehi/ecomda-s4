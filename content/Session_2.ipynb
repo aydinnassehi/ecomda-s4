{
  "cells": [
    {
      "cell_type": "markdown",
      "metadata": {
        "id": "2W3a5DMK_a9z"
      },
      "source": [
        "### Session 2 - Computing: getting started - first notebook\n",
        "\n"
      ]
    },
    {
      "cell_type": "markdown",
      "metadata": {
        "id": "VD4cBd0lAW4R"
      },
      "source": [
        "![noun-python-6647256.png](data:image/png;base64,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)\n",
        "\n",
        "## Why Python?\n",
        "\n",
        "Python is an ideal programming language for first-year engineering students due to its simplicity and versatility. Its clean and readable syntax allows students to focus on learning programming concepts without the distraction of complex language structures. Python supports a wide range of libraries and frameworks that are particularly beneficial for engineering applications, such as data analysis, simulations, and machine learning. Additionally, Python's strong community and extensive documentation provide valuable resources for beginners. Learning Python equips students with a solid foundation in programming, which is essential for solving complex engineering problems and advancing in their studies and careers.\n",
        "\n",
        "[![](https://markdown-videos-api.jorgenkh.no/youtube/uWYTzPnINq0)](https://youtu.be/uWYTzPnINq0)\n"
      ]
    },
    {
      "cell_type": "markdown",
      "metadata": {
        "id": "TX7DHG6NBlTB"
      },
      "source": [
        "![noun-script-5879534.png](data:image/png;base64,iVBORw0KGgoAAAANSUhEUgAAAGQAAABkCAYAAABw4pVUAAAABmJLR0QA/wD/AP+gvaeTAAAJ/ElEQVR4nO2deZAdRRnAf7tsYK9EskcSopgFTJSglkeiYomxikQFFDzKEhQtRcqDUhI3JB6QsKKUShUuZTDGgEgiEBWkyttAKDVYKFKFaBLxwqAGzcnmhVxLNvv84+txZud1z8yb6Zk37735VXXtezPd3/T2N33M1998DwoKCsy01LoCdUYr8E7fsbtrUZECYRJQ9iWrtNoWWJCMQiHV0a451pl5LZqEDuAL6q+Os4B1VA5ZG4B56OfjbmBY/S2ogg7gfqSB78NVSjuwFPgblYrwp38B1+A2fjewWZ3bTKGUyLQDG5nYuA8D1wP/JlwR/rQLuBF4zHe8UEpE+oGtVN/w1abHgN6M/qe6px/4I+kqoy+z/6ZBmE16CnlB1EoUy16XsOFkG3AForh2ZOKfCwwCT4SUPSVx7ZqQn6K/u48BVxF8804CrgPGDTIeSK3WDcqr0TfkceC9Vci5wiCnDJxjsb4NzzD6Rvx6DFl3GmTdbKWmTcAJwHYqG/AosvqqllnAmEbeDqAtrHBohgblEmCy+vwGYECTZyOwJ4bsfwK/Bhb4jj8XMdX/Vn0vAWtiyG9IdD3Cn1YmkH9DBPnbdQVt9ZAZyB2QZ8rAo1Xk353gWrHL2lLIB4AvWpKVFseAE6vIn+TJOnbZZp1DNuA+CM4DXqHJ87IE8k1lf4MYGQFGEsgP5dOkb5xLmsaBHk3dO4G9mvzPAM+J0Rb9yArNL2835r2W/9NMppMW4C7grcBClaYAh4EfafJ3IzdatawETtIc/yFwJIa8WNRDD9GlT6j6v8Vwfgx4cxXt8Hbk6V4nqxo5ialXhTys6t+CrMB0eQ4TzXxyOTBqkPEIGbtc1atCysC56n8w9RInbQIuZOI80AW8A3gwpOx5URuyWVdZDgeRCRhkgyqIc1UaR7ZpQZ6/otz5W6JWKGvPxenIBDrfd3wr8JMEcicB76e69f9B4Hzk7u5AJt2FCeoQxCbgImT4yx1XUtmlF1iQ+1mN3KB0pSrXiTRY2kPjJiL4cLUBS0hmt4nKEPBV4FnNuWVI9x+PKfsk4H1Vlimpv93ATN+57YgR8G1EeHbwcQQZBc4GTvUcn47MOaG9JKsJebm63kczul5Y2oG71z0D+JM6vhWYpo7PBFYDhyLIO4RYbx2b3jRcb5YtHpmhBClkDNmk+YXm3H8QT7+diJPZzej3AfKqkDLid+VVyvcNDdeB9BZdOzygzumGo+mIyT2yMsCskBJwgcpzuub8xerctbj7CeepcvWiEL9SHOYiPWYFExcKvZryccwrgegU8g/gxer8JOBbvvNP4i6ZH0J8Xh1L6lmIF0a9KMRRyhxP/Xd6zj0LfNPTFv6y1leqfoU8iLt12YN0SX8lBtX5sz3HNnvK9QG/8pXJs0LKwAHgl8hy2H/OeY5IXSH+B8PbkQYbBV6ErM1n+/KUgFvV50HP8XOA3yFPs1uARciE+CGbFU6RyYQvv49TaXAs26yEVyHrgA+qz28EvgucrClzC3I3nY4Y07wMIEPYpcAPEPtOq0euiSPImG2LTuBMi/JmIs5xR4EvW5RbgVcho57Pk5Hu6WcMWKU+L0Y8NnR475qxCPW4BFGgTe6l8oaJSw/wc+AeZIT4tiW5WrxzyCpcJb2cSnf8u9S5k5ENHP94+iTwUpWnDfia51zQHHIdMu9MtZQGgN9rrmMj7YzasHHxT+r34Q5V/bgvnZSBV6njn9JU9CFk3Q3SKPf7zud9Us+tQsrIeH6GOt8OfA9ZgYAMZf6eswF3l2wO8BeNzEIhETBt4Z6JbN4sQCayzyDOyADvBp7ny381MgctRGxAcyiIRdB+SC8yfK0GXog8KHYAH9PkXYO8h/fhEJkFIYQ13omINdhhyJBvkUoFCWlDhqRUfYQUR8OzFNQC3QZVPaVUJ/Wsx/su4F2a4ytxn1myphN54HtNDa5dgS2FfBz4ZIR8jgnCzzbgaUt1qZYRZBnfUAqZiti24nIn8Djxt3CT0I2sInNBXpao7YippulpJt/eusBRSAtiFFxICluSBdFpRWxT9wJ/QAyCfwdeW8tKNTOtwGWI14RDH/Ad9KuhgpRpxTWpe/kvRTiImtDGxK3TRxG3nh9bvk4J8U7cb1luWkxGtmprEsGnD9mEuhDXg6JFfb/YVMjHCoLNDT+zWN+suJsamU72Aq9X31uQV76GkBchdyGeJ0m9thchnip7E8rJiqmIt3rmeB8M34SEtXul+n4IWI+dh8cTqB93oJribezXIcpwnIZvINnL8wUx8CrkK+r7MK4iTkH2wp+giGZTU2YgijmMTGS7ENO5ibBJvZFS5k4OQ4iz9RLcl1WmIcG5ClJGp5BW9G8NLccNaVSQEroV1DCyzeo3MvYhvSSOb+s4sq4vhWXMCV2Iu1NeticYQj9+7kEfnTlsDtmYeo3tcw852lO/CXGm9nu/9yHbtV+q8jrzgfdQP8voHnIYtHII/R2yl8q5pFhlWSJox3AYvb9WL9JLClIgSCElZOjSsRQJbVRgmbA99ZvQu+f04oY2KrBImEIOYO4lg7i95Li1GhWEMgXYh36Cu0blmUNw0IBGSqlO6lFf6b0aidrg52ngNKQnrSc43shu5JXjeqATsefp2BVwLjOmoA8U6e0ls5FQrLo8j2B+QTSPtCJvjGXeQ6rBFP5oH+5covsVszLwV+LFUa8VPYhbVK4V0o0MO7pKrlB5zsDcSxol5UYhIO8a6io5gmtmud2Qp1FSrhTShbmXOEHQGr2X5EohYA7ntB/x1gC4zZCnEVLuFNKFLP10lb1W5RnAHMO23lMunkP8LEe/UbUfeS7Zj8SYuiym/CjcBqwlWiwVmxwjPKRs5gTNJUMqz2lI8K+07lQn0kRDkST41jLEd8tPCVHGCBLK6fIE1zBRRp6mjyLPR7NSuEYt2ByexUzQXPI5lWcW6cwlXpfUPSnIr1VaFqXhg7jKINi74lqbQsU3Kdl9GTdY2skJOhqbTiYGjPSmz6s8A9jvJYuV7AsybKy000GCnREjs9RwgRLuL9p8w2LFjyNzFIiFudYNaSvdEb3Jg+lE3rjSXcQx2c/CXi9Zp2R2IGb/WjekjTSO/k222AwaLvQMrpV3jYWKj+IGKFhmqTHykJybzBodmHvJ9SrP80neS5x9/H5k4VDrhrSRniKlDa8lhgsewP2JutUJKr7Wcy3Tvku9pcPIz/alQgcSoN97wRHkyd3ZwJoXs+LrccPWLo4pI29phAyCvjmNNYIYGv2uqLqg/kFpFNmDcSwK59MYzhSPk1FcynYkhKwpPMd0QwX9aRxx0J7rKXsp9W9B3ocsRnITlKGLYFPHNuBG4CW+MqsQJdW6QeOkI8jva30E13phJOsfBXM4FXl/0euOugP4sybvfPS/d55njiF2vqfU39Hg7AUFBdH4H2u3hl9wyDmJAAAAAElFTkSuQmCC)\n",
        "\n",
        "## What is a Jupyter Notebook?\n",
        "\n",
        "A Jupyter Notebook **such as the one you are working on right now** is a tool that lets you write and run Python code in an interactive and easy-to-use way. It is especially useful for learning and exploring programming because it allows you to see the results of your code immediately.\n",
        "\n",
        "# Key features:\n",
        "\n",
        "* **Live Code Execution:** You can write code and run it right away to see what it does. This helps you learn by trying things out and seeing instant feedback.\n",
        "* **Mixing Code and Text:** You can write explanations and notes along with your code, making it easier to understand what your code is doing and why. This is great for learning and keeping track of your work.\n",
        "* **Visualisation:** You can create graphs and charts directly in the notebook, which helps you visualise data and understand results better.\n",
        "* **Easy Sharing:** Notebooks can be shared with others, so you can collaborate on projects or share your work with instructors or classmates."
      ]
    },
    {
      "cell_type": "markdown",
      "metadata": {
        "id": "cdD7lm2fDP1c"
      },
      "source": [
        "## Our first Python code\n",
        "\n",
        "Jupyter Notebooks are made up of boxes (*cells*) of two types: *text cells* (like this one) and *code cells* (like the next one). Code cells can be executed and the results will be displayed underneath the cell. To do this, select the cell (=place the mouse in the cell and click once) and then either click the![noun-play-4793037.png](data:image/png;base64,iVBORw0KGgoAAAANSUhEUgAAABwAAAAcCAYAAAByDd+UAAAAAXNSR0IArs4c6QAAAIRlWElmTU0AKgAAAAgABQESAAMAAAABAAEAAAEaAAUAAAABAAAASgEbAAUAAAABAAAAUgEoAAMAAAABAAIAAIdpAAQAAAABAAAAWgAAAAAAAABIAAAAAQAAAEgAAAABAAOgAQADAAAAAQABAACgAgAEAAAAAQAAABygAwAEAAAAAQAAABwAAAAAl4eZoQAAAAlwSFlzAAALEwAACxMBAJqcGAAAAVlpVFh0WE1MOmNvbS5hZG9iZS54bXAAAAAAADx4OnhtcG1ldGEgeG1sbnM6eD0iYWRvYmU6bnM6bWV0YS8iIHg6eG1wdGs9IlhNUCBDb3JlIDYuMC4wIj4KICAgPHJkZjpSREYgeG1sbnM6cmRmPSJodHRwOi8vd3d3LnczLm9yZy8xOTk5LzAyLzIyLXJkZi1zeW50YXgtbnMjIj4KICAgICAgPHJkZjpEZXNjcmlwdGlvbiByZGY6YWJvdXQ9IiIKICAgICAgICAgICAgeG1sbnM6dGlmZj0iaHR0cDovL25zLmFkb2JlLmNvbS90aWZmLzEuMC8iPgogICAgICAgICA8dGlmZjpPcmllbnRhdGlvbj4xPC90aWZmOk9yaWVudGF0aW9uPgogICAgICA8L3JkZjpEZXNjcmlwdGlvbj4KICAgPC9yZGY6UkRGPgo8L3g6eG1wbWV0YT4KGV7hBwAAAsFJREFUSA2tlWtqVEEQhZ1EEVF/KqgLUBlFF2AWoIKS/YiI7sbHHzcwA7MBRYRodAO6Ad/xfPf2d9OZ9NwJxoIz1V1ddaq6bnfP5MTRZSOum8FeAZGTgt/RfzD8DzkZEpKtE3zwHRUqXCUmsfLrcdwKpsGFEvQl+n2wCHaKzS4YV8zjiiDlfgbzAALbuaxZmwV3A6Xm0NbUtuV8Vl8FNfnPzH8E6Hpc+zzP2tkAkaufNX6t6krWPgcQSb5uh/oRsxtcChA5+1n16zdjZyb7lrHVcxLBr2AsuTEkdadyx7QvGm2jgSRsJSC5xSxrY2kvcmiX9poDQjDtkUTiN7HdCp5Va7Wf/mrXPEjmSPj+PZtnvJyQQ4LtUaBsZ/A9wO66idQmnJUgOzhcau6ZznULDXxSAs8UfTX6Y0AMSesYbM7p0LUA2SCr/d3qTP2hGHsQKOBU8CG4Gbwu86guORqBgwNGjjsB0iWkGmTaqwNBxXRIkZRvQlsfBnzXVpFy38h6J2TX6HPVCizuB5TVk/hxwDd2VzrKJffe8CH1OIaWvEUxrJHQydfi6Y5bgbWNnXEw2OnTwOtSH3+5eOSRCYsm5NVHnPez9i+Hhu94OuByPwgkz3AQuQZudsixRRYBQRTRCo65E5NxLd4FJCM5YgLGNRfciLmGuziPEUcI0MCLzaFQjnXxIbHvY0/b2/jdDvxWy4VZoNqim08bSTf5ibwMCPIBZuyrIRma9tTzemzsysc7sUNbz2X8qZAZaAKScCpbBZjQGDjgQlZeP3d5OU4mpTVgLAlr+pF4N4ADkbOfNX79nlT3IrByNKQcIskd1z7EuDO5YhqXuqp7cZ0F63aIjwcE9pqDeSf1vdGm9hXy7vAXsxVMg4vFiReES70IdoqNROyYAv9JaMvKj14x4rO2hWM7rLi6IYRWzw4Q4gFdONKO/gLtOjNEzuyMqwAAAABJRU5ErkJggg==) button or press **shift** and **enter** keys on the keyboard."
      ]
    },
    {
      "cell_type": "code",
      "execution_count": null,
      "metadata": {
        "id": "QU_rLu4NADUD"
      },
      "outputs": [],
      "source": [
        "print(\"Hello and welcome to learning Python\")"
      ]
    },
    {
      "cell_type": "markdown",
      "metadata": {
        "id": "_PbtsmzjFDLq"
      },
      "source": [
        "You can also change the content of any cell at any time. Simply select the cell and begin typing. Once you are done, press **shift** and **enter** keys and see if the code gets executed correctly. For example, you can try and write into the cell below a line of code than when run, prints your name:"
      ]
    },
    {
      "cell_type": "code",
      "execution_count": null,
      "metadata": {
        "id": "ukgo2r-eFKGQ"
      },
      "outputs": [],
      "source": []
    },
    {
      "cell_type": "markdown",
      "metadata": {
        "id": "Bx6NuNqpVDIo"
      },
      "source": [
        "The command we used here is `print`. This commands produces writes output from a script. Now let us try a few variations of this command."
      ]
    },
    {
      "cell_type": "code",
      "execution_count": null,
      "metadata": {
        "id": "szg4tpxAV173"
      },
      "outputs": [],
      "source": [
        "print(47)"
      ]
    },
    {
      "cell_type": "code",
      "execution_count": null,
      "metadata": {
        "id": "pTZAPUT1V47O"
      },
      "outputs": [],
      "source": [
        "print(\"This is text. Text is often called String in programming jargon as it is treated as a string of characters by the computer\")"
      ]
    },
    {
      "cell_type": "markdown",
      "metadata": {
        "id": "vKBPgZ2KXCdI"
      },
      "source": [
        "You need to put the text in either quotes `'` or double quotes `\"`"
      ]
    },
    {
      "cell_type": "code",
      "execution_count": null,
      "metadata": {
        "id": "vmye_la5XL2Z"
      },
      "outputs": [],
      "source": [
        " print(\"your string\") #By the way you can add comments in your code by adding the hashtag symbol\n",
        " print('This also works')\n",
        " print(\"so if you want to have 'single quotes' in your text use this\")\n",
        " print('and if you want to have \"double quotes\" use this')"
      ]
    },
    {
      "cell_type": "markdown",
      "metadata": {
        "id": "C32KVsGhXWqa"
      },
      "source": [
        "### Exercise 1\n",
        "\n",
        "See if you can fix the following code:\n"
      ]
    },
    {
      "cell_type": "code",
      "execution_count": null,
      "metadata": {
        "id": "BqQEnytcXioI"
      },
      "outputs": [],
      "source": [
        "print(\"This is broken, can you fix it?'')"
      ]
    },
    {
      "cell_type": "markdown",
      "metadata": {
        "id": "sIQ9VSKSWR6C"
      },
      "source": [
        "## Python as a calculator\n",
        "\n",
        "We can use Python to do basic calculations and then print the results. For example"
      ]
    },
    {
      "cell_type": "code",
      "execution_count": null,
      "metadata": {
        "id": "mo7bqmDwWWFK"
      },
      "outputs": [],
      "source": [
        "print(12-4)"
      ]
    },
    {
      "cell_type": "markdown",
      "metadata": {
        "id": "_xAXz3qVWY8k"
      },
      "source": [
        "and here are a few more examples:"
      ]
    },
    {
      "cell_type": "code",
      "execution_count": null,
      "metadata": {
        "id": "k5gmmy1zWXr2"
      },
      "outputs": [],
      "source": [
        "print(54+8)\n",
        "print(2**3) #This means raise 2 to the third power\n",
        "print(11/3)"
      ]
    },
    {
      "cell_type": "markdown",
      "metadata": {
        "id": "zAKq6lB5YMyh"
      },
      "source": [
        "### Exercise 2\n",
        "\n",
        "Try running the following script which is trying to calculate `45+2`. Is it producing the output you expected? How would you change it to work."
      ]
    },
    {
      "cell_type": "code",
      "execution_count": null,
      "metadata": {
        "id": "crIL1YErWwtK"
      },
      "outputs": [],
      "source": [
        "print(\"45\"+\"2\")"
      ]
    },
    {
      "cell_type": "markdown",
      "metadata": {
        "id": "gOoJDSLSYn8J"
      },
      "source": [
        "\n",
        "---\n",
        "So it seems that we can do additions with Strings as well but it means something different. Try the following examples:\n",
        "\n"
      ]
    },
    {
      "cell_type": "code",
      "execution_count": null,
      "metadata": {
        "id": "0y4BSGMJY3ka"
      },
      "outputs": [],
      "source": [
        "print(\"The sea is calm and visibility is\"+\" good\")"
      ]
    },
    {
      "cell_type": "code",
      "execution_count": null,
      "metadata": {
        "id": "ITfOnVuzZAXW"
      },
      "outputs": [],
      "source": [
        "print(\"Mayday! \"*3)"
      ]
    },
    {
      "cell_type": "markdown",
      "metadata": {
        "id": "4QGajmLzZGEv"
      },
      "source": [
        "## Variables and data types\n",
        "\n",
        "Variables are used to store data, which can be of various types such as integers, floats, strings, and booleans. Here is an example of how to declare variables in Python:"
      ]
    },
    {
      "cell_type": "code",
      "execution_count": null,
      "metadata": {
        "id": "FrP6p5iPZDFt"
      },
      "outputs": [],
      "source": [
        "age = 21  # integer - a whole number\n",
        "height = 1.75  # float - a real number\n",
        "name = \"John Doe\"  # string\n",
        "is_student = True  # boolean - True or False -- Note the capital T and F"
      ]
    },
    {
      "cell_type": "markdown",
      "metadata": {
        "id": "XEiOOl57Zhm4"
      },
      "source": [
        "Once a variable is declared we can use it to represent its content. So for example we can write"
      ]
    },
    {
      "cell_type": "code",
      "execution_count": null,
      "metadata": {
        "id": "R9AWNAiUZod1"
      },
      "outputs": [],
      "source": [
        "print(name+\" is \"+str(age)+\" years old\")"
      ]
    },
    {
      "cell_type": "markdown",
      "metadata": {
        "id": "ncj51gCmZyAf"
      },
      "source": [
        "but what is with the `str(age)`? 😠\n",
        "\n",
        "If we try writing the same script with out `str()`, Python will think that we are adding a string to an integer. As we discussed above, Python uses the same symbol `+` to both mean the mathematical addition of two numbers and putting two strings one after another. If we mix the two types, it gets confused about which meaning of the symbol it should use. Try this:"
      ]
    },
    {
      "cell_type": "code",
      "execution_count": null,
      "metadata": {
        "id": "5vA8vKfKZwhC"
      },
      "outputs": [],
      "source": [
        "print(name+\" is \"+age+\" years old\")"
      ]
    },
    {
      "cell_type": "markdown",
      "metadata": {
        "id": "6Nzjs6oVaqX1"
      },
      "source": [
        "So what we need to do is to convert (or in programming jargon _cast_) something from one type to another to resolve the confusion. `str()` converts a number to string. Unsurprisingly `int()` and `float()` convert strings to numbers. They only work if the content of the string is digits. Run these examples:"
      ]
    },
    {
      "cell_type": "code",
      "execution_count": null,
      "metadata": {
        "id": "Z01bv0rfa_0N"
      },
      "outputs": [],
      "source": [
        "print(str(42)+str(2))\n",
        "print(int(\"12\")+float(\"2.5\"))"
      ]
    },
    {
      "cell_type": "code",
      "execution_count": null,
      "metadata": {
        "id": "MCtRTCZXbFqO"
      },
      "outputs": [],
      "source": [
        "print(int(\"a12\"))"
      ]
    },
    {
      "cell_type": "code",
      "execution_count": null,
      "metadata": {
        "id": "7e0a0Kv8isMJ"
      },
      "outputs": [],
      "source": [
        "print(int(\"2.5\"))"
      ]
    },
    {
      "cell_type": "code",
      "execution_count": null,
      "metadata": {
        "id": "0qneLioSizkz"
      },
      "outputs": [],
      "source": [
        "print(int(2.5))"
      ]
    },
    {
      "cell_type": "markdown",
      "metadata": {
        "id": "pjVhoNuqi52q"
      },
      "source": [
        "The last one works, because here we are asking Python to find the integer part of a real number. Do note that it is not rounding."
      ]
    },
    {
      "cell_type": "markdown",
      "metadata": {},
      "source": [
        "In addition to numbers and strings, we also have booleans (that can only be ```True``` or ```False```) in Python. See this example:"
      ]
    },
    {
      "cell_type": "code",
      "execution_count": null,
      "metadata": {},
      "outputs": [],
      "source": [
        "print(bool(0))\n",
        "print(bool(1))"
      ]
    },
    {
      "cell_type": "code",
      "execution_count": null,
      "metadata": {},
      "outputs": [],
      "source": [
        "y=True\n",
        "print(y)\n",
        "print(int(y))"
      ]
    },
    {
      "cell_type": "markdown",
      "metadata": {
        "id": "VpBclV1gj5gw"
      },
      "source": [
        "### Exercise 3 - a calculator\n",
        "\n",
        "Let's begin with two numbers:\n",
        "\n"
      ]
    },
    {
      "cell_type": "code",
      "execution_count": 8,
      "metadata": {
        "id": "sInAviPFkBUN"
      },
      "outputs": [],
      "source": [
        "number1=36\n",
        "number2=11"
      ]
    },
    {
      "cell_type": "markdown",
      "metadata": {
        "id": "s89QIOtIkTz9"
      },
      "source": [
        "write a script that performs the following operations: addition ```+```, subtraction ```-```, multiplication ```*```, division ```/```, exponent (power) ```**``` and modulo (remainder)```%```. Print the results."
      ]
    },
    {
      "cell_type": "code",
      "execution_count": null,
      "metadata": {
        "id": "kZOFiHEEkEq4"
      },
      "outputs": [],
      "source": [
        "#write your script here\n"
      ]
    },
    {
      "cell_type": "markdown",
      "metadata": {},
      "source": [
        "# Lists\n",
        "\n",
        "A Python list is a collection of items that can be stored together in a single variable. Lists are useful for keeping multiple values organised and accessible. Each item in a list can be of any data type, such as numbers, strings, or even other lists, and they are ordered, meaning each element has a specific position.\n",
        "\n",
        "A list is created by placing items inside square brackets [], separated by commas. For example:"
      ]
    },
    {
      "cell_type": "code",
      "execution_count": null,
      "metadata": {},
      "outputs": [],
      "source": [
        "# A list of numbers\n",
        "numbers = [1, 2, 3, 4, 5]\n",
        "\n",
        "# A list of strings\n",
        "fruits = [\"apple\", \"banana\", \"cherry\"]\n",
        "\n",
        "# A list containing different types of data\n",
        "mixed = [1, \"apple\", 3.5, True]\n",
        "\n",
        "# Accessing items in a list using their position (index starts from 0)\n",
        "print(fruits[0])  # Output: \"apple\"\n",
        "print(numbers[2])  # Output: 3\n",
        "\n",
        "# Adding an item to a list\n",
        "numbers.append(6)  # Now numbers is [1, 2, 3, 4, 5, 6]\n",
        "\n",
        "# Removing an item from a list\n",
        "fruits.remove(\"banana\")  # Now fruits is [\"apple\", \"cherry\"]"
      ]
    },
    {
      "cell_type": "markdown",
      "metadata": {},
      "source": [
        "## Formatting numbers for printing\n",
        "\n",
        "There are several ways to format a number as a string for printing in Python. One is to use the ```format``` function. For example:"
      ]
    },
    {
      "cell_type": "code",
      "execution_count": null,
      "metadata": {},
      "outputs": [],
      "source": [
        "'{:.2f}'.format(3.1415926534)"
      ]
    },
    {
      "cell_type": "markdown",
      "metadata": {},
      "source": [
        "formats the number to two decimal places. replacing ```f``` with ```e``` produces numbers using the scientific notation. See this example:"
      ]
    },
    {
      "cell_type": "code",
      "execution_count": null,
      "metadata": {},
      "outputs": [],
      "source": [
        "'{:.2e}'.format(3.1415926534)"
      ]
    },
    {
      "cell_type": "markdown",
      "metadata": {},
      "source": [
        "we can also use Python's F-String for formatting the output. This is an example:"
      ]
    },
    {
      "cell_type": "code",
      "execution_count": null,
      "metadata": {},
      "outputs": [],
      "source": [
        "a=54.9292\n",
        "b=35.7\n",
        "n=\"James\"\n",
        "\n",
        "print(f\"The first number I want to print is {a:.2f} followed by {b:.2f}. Are you OK with this {n}?\")"
      ]
    },
    {
      "cell_type": "markdown",
      "metadata": {},
      "source": [
        "## Valid variable names\n",
        "Variable names can contain letters, numbers and underscore but no special \n",
        "characters. Must start with a letter or underscore.\n",
        "Which of the following variable names is not allowed and produces an error?"
      ]
    },
    {
      "cell_type": "code",
      "execution_count": null,
      "metadata": {},
      "outputs": [],
      "source": [
        "x=5"
      ]
    },
    {
      "cell_type": "code",
      "execution_count": null,
      "metadata": {},
      "outputs": [],
      "source": [
        "x1=3"
      ]
    },
    {
      "cell_type": "code",
      "execution_count": null,
      "metadata": {},
      "outputs": [],
      "source": [
        "X_2=4"
      ]
    },
    {
      "cell_type": "code",
      "execution_count": null,
      "metadata": {},
      "outputs": [],
      "source": [
        "x@y=3"
      ]
    },
    {
      "cell_type": "code",
      "execution_count": null,
      "metadata": {},
      "outputs": [],
      "source": [
        "z%y=1"
      ]
    },
    {
      "cell_type": "code",
      "execution_count": null,
      "metadata": {},
      "outputs": [],
      "source": [
        "_x_v=2.9"
      ]
    },
    {
      "cell_type": "code",
      "execution_count": null,
      "metadata": {},
      "outputs": [],
      "source": [
        "1x=2"
      ]
    },
    {
      "cell_type": "markdown",
      "metadata": {},
      "source": [
        "## The assignment operator ( = )\n",
        "\n",
        "This operator can be used to assign (or reassign) a value to a variable. It is not the same as a mathematical identity, which is what you may have previously seen the symbol represent. So for example the statement\n",
        "``` a = 12 ```\n",
        "\n",
        "assigns a value of 12 to the variable named ```a```."
      ]
    },
    {
      "cell_type": "code",
      "execution_count": null,
      "metadata": {},
      "outputs": [],
      "source": [
        "a=12\n",
        "print(a)"
      ]
    },
    {
      "cell_type": "markdown",
      "metadata": {},
      "source": [
        "In subsequent code we can use the same operator to give ```a``` another value:"
      ]
    },
    {
      "cell_type": "code",
      "execution_count": null,
      "metadata": {},
      "outputs": [],
      "source": [
        "a=8\n",
        "print(a)"
      ]
    },
    {
      "cell_type": "markdown",
      "metadata": {},
      "source": [
        "Remember, we can use the current value of a variable in our assignment of a new value to it. What would be the output of the following script?"
      ]
    },
    {
      "cell_type": "code",
      "execution_count": null,
      "metadata": {},
      "outputs": [],
      "source": [
        "a=5\n",
        "a=a+2\n",
        "print(a)"
      ]
    },
    {
      "cell_type": "markdown",
      "metadata": {},
      "source": [
        "## Comparison operators\n",
        "\n",
        "There are a number of comparison operators available in Python these are:\n",
        "\n",
        "* ```a>b``` translating to is ```a``` greater than ```b```?\n",
        "* ```a<b``` translating to is ```a``` smaller than ```b```?\n",
        "* ```a>=b``` translating to is ```a``` greater than or equal to ```b```?\n",
        "* ```a<=b``` translating to is ```a``` smaller than or equal to ```b```?\n",
        "* ```a==b``` translating to is ```a``` equal to ```b```?\n",
        "* ```a!=b``` translating to is ```a``` different to ```b```?\n",
        "\n",
        "run these examples:\n"
      ]
    },
    {
      "cell_type": "code",
      "execution_count": null,
      "metadata": {},
      "outputs": [],
      "source": [
        "3>2"
      ]
    },
    {
      "cell_type": "code",
      "execution_count": null,
      "metadata": {},
      "outputs": [],
      "source": [
        "3.1>=3.1"
      ]
    },
    {
      "cell_type": "code",
      "execution_count": null,
      "metadata": {},
      "outputs": [],
      "source": [
        "3.1==3.2"
      ]
    },
    {
      "cell_type": "code",
      "execution_count": null,
      "metadata": {},
      "outputs": [],
      "source": [
        "4!=5"
      ]
    },
    {
      "cell_type": "code",
      "execution_count": null,
      "metadata": {},
      "outputs": [],
      "source": [
        "2 < True"
      ]
    },
    {
      "cell_type": "code",
      "execution_count": null,
      "metadata": {},
      "outputs": [],
      "source": [
        "2==2.0"
      ]
    },
    {
      "cell_type": "markdown",
      "metadata": {},
      "source": [
        "## Logical operators\n",
        "\n",
        "Sometimes we may need to combine our comparison operators we do this with ```and```, ```or``` and ```not```. They behave as you would expect them to do. See the following examples:"
      ]
    },
    {
      "cell_type": "code",
      "execution_count": null,
      "metadata": {},
      "outputs": [],
      "source": [
        "x=7\n",
        "x==5 and x<10"
      ]
    },
    {
      "cell_type": "code",
      "execution_count": null,
      "metadata": {},
      "outputs": [],
      "source": [
        "x==5 or x<10"
      ]
    },
    {
      "cell_type": "code",
      "execution_count": null,
      "metadata": {},
      "outputs": [],
      "source": [
        "not x<5"
      ]
    },
    {
      "cell_type": "markdown",
      "metadata": {},
      "source": [
        "# How to create your own Jupyter notebooks and run Python code?\n",
        "\n",
        "There are several ways for you to create Jupyter notebooks:\n",
        "\n",
        "* The simplest way which is probably all you need for this unit is to use **Jupyter Lite**, which is what this notebook is running on. To begin point your browser to http://aydinnassehi.github.io/ecomda-python/ and you should be able to create a new note book. see (https://youtu.be/diLnOWhkKU8) \n",
        "\n",
        "* An alternative which I recommend because of its close integration with Gemini AI, provided that you have a Google account or are prepared to make one is **Google colaboratory**. see (https://youtu.be/aRAbfXCTI0Q)\n",
        "\n",
        "* A more professional environment for creating these notebooks on your own computer can be accessed via **Anaconda**. This is what is installed on the lab computers in MVB1.07 and MVB1.08 and you can install it on your own computer as well. see (https://youtu.be/sjzdHmul7so).\n",
        "\n",
        "* An alternative environment where you can develop code on your own computer is **Visual Studio Code** from Microsoft. see (https://youtu.be/J2EH_Jl-u60)"
      ]
    }
  ],
  "metadata": {
    "colab": {
      "provenance": []
    },
    "kernelspec": {
      "display_name": "Python 3",
      "name": "python3"
    },
    "language_info": {
      "codemirror_mode": {
        "name": "ipython",
        "version": 3
      },
      "file_extension": ".py",
      "mimetype": "text/x-python",
      "name": "python",
      "nbconvert_exporter": "python",
      "pygments_lexer": "ipython3",
      "version": "3.11.8"
    }
  },
  "nbformat": 4,
  "nbformat_minor": 0
}
