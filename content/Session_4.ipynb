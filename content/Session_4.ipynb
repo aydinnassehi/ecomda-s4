{
 "cells": [
  {
   "cell_type": "markdown",
   "metadata": {},
   "source": [
    "# Session 4: Computing - Data Handling and Visualisation\n",
    "\n",
    "This session will introduce key Python tools for data analysis and visualisation, focusing on fundamental concepts to support your learning in the unit. You will explore NumPy for handling numerical data, learn how to create basic plots, work with Pandas to manipulate datasets, and move on to advanced plotting techniques. The session is designed to build a strong foundation in Python, equipping you with essential skills for data analysis in future projects. Additionally, you will complete exercises tailored to specific engineering disciplines to apply the concepts you learn."
   ]
  },
  {
   "cell_type": "markdown",
   "metadata": {},
   "source": [
    "## NumPy\n",
    "\n",
    "NumPy (Numerical Python) is a key library for performing numerical calculations in Python, designed to make working with large sets of numbers much easier and faster. It allows you to create and manipulate collections of numbers that are arranged in a structured format. For example, a simple list of numbers can be stored and managed more efficiently using NumPy. When these numbers are organised in rows and columns, they form what is called a matrix, which is useful for handling more complex data like images, signals, or large datasets. NumPy also includes a wide range of mathematical functions that allow for quick and efficient calculations on these collections of numbers, making it essential for scientific computing, data analysis, and engineering tasks. It integrates well with other Python libraries, such as **Pandas** for data handling, **SciPy** for scientific computations, and **Matplotlib** for creating graphs and visualisations."
   ]
  },
  {
   "cell_type": "markdown",
   "metadata": {},
   "source": [
    "### NumPy Module\n",
    "NumPy is a “module” that contains:\n",
    "- Data types\n",
    "- Functions\n",
    "- Constants\n"
   ]
  },
  {
   "cell_type": "markdown",
   "metadata": {},
   "source": [
    "### How to Import NumPy\n",
    "To use NumPy, the `import` statement must be used before calling any NumPy functions or data types. Typically, it is placed at the beginning of a Python program. An alias (typically shorter name) can be given using the \"as\" statement to facilitate writing code. You can only do this once in a notebook, but remember to run the cell before any other to avoid errors saying that `np` has not been defined."
   ]
  },
  {
   "cell_type": "code",
   "execution_count": 1,
   "metadata": {},
   "outputs": [],
   "source": [
    "import numpy as np"
   ]
  },
  {
   "cell_type": "markdown",
   "metadata": {},
   "source": [
    "### NumPy functions\n",
    "\n",
    "NumPy provides a number of mathematical functions that you can use:\n",
    "\n",
    "| NumPy Function \t| Mathematical Equivalent \t| Comments \t|\n",
    "|----------------\t|-------------------------\t|----------\t|\n",
    "| `np.pi`          \t|    $\\pi$                     \t|          \t|\n",
    "| `np.e`          \t|    $e$                    \t|          \t|\n",
    "| `np.cos(x)`               \t|      $\\cos {x}$                   \t| $x$ should be in radians          \t|\n",
    "| `np.sin(x)`               \t|      $\\sin {x}$                   \t| $x$ should be in radians         \t|\n",
    "| `np.sqrt(x)`               \t|      $\\sqrt x$                   \t|          \t|\n",
    "| `np.arctan(x)`               \t|      $\\arctan {x}$                   \t|          \t|\n",
    "| `np.exp(x)`              \t|          $e^x$               \t|          \t|\n",
    "| `np.abs(x)`              \t|          $\\left\\|x\\right\\|$               \t|          \t|"
   ]
  },
  {
   "cell_type": "markdown",
   "metadata": {},
   "source": [
    "for example, let's calculate the $\\sin$, $\\cos$ and $\\tan$ of $\\pi/4$:"
   ]
  },
  {
   "cell_type": "code",
   "execution_count": null,
   "metadata": {},
   "outputs": [],
   "source": [
    "x=np.pi/4\n",
    "\n",
    "print(f\"for the angle Pi/4, sin={np.sin(x):0.3f}, cos={np.cos(x):0.3f} and tan={np.tan(x):0.3f}\")"
   ]
  },
  {
   "cell_type": "markdown",
   "metadata": {},
   "source": [
    "### NumPy Arrays\n",
    "\n",
    "These are ordered lists (or grids, more on that in a bit) of numerical elements, all of the same type (i.e. float or int)"
   ]
  },
  {
   "cell_type": "code",
   "execution_count": null,
   "metadata": {},
   "outputs": [],
   "source": [
    "x=np.array([1.0,2.0,3.0,4.0])\n",
    "print(x)"
   ]
  },
  {
   "cell_type": "markdown",
   "metadata": {},
   "source": [
    "you can also use arrays to define grids (2 Dimensional or more) of numbers. See this example:"
   ]
  },
  {
   "cell_type": "code",
   "execution_count": null,
   "metadata": {},
   "outputs": [],
   "source": [
    "y=np.array([[1.0,2.0,3.0],[4.0,5.0,6.0]])\n",
    "print(y)"
   ]
  },
  {
   "cell_type": "markdown",
   "metadata": {},
   "source": [
    "There are some statements you can use to define NumPy arrays in specific shapes with ones or zeros. Have a look at the following:"
   ]
  },
  {
   "cell_type": "code",
   "execution_count": null,
   "metadata": {},
   "outputs": [],
   "source": [
    "np.zeros(shape=(10))"
   ]
  },
  {
   "cell_type": "code",
   "execution_count": null,
   "metadata": {},
   "outputs": [],
   "source": [
    "np.ones(shape=(5))"
   ]
  },
  {
   "cell_type": "code",
   "execution_count": null,
   "metadata": {},
   "outputs": [],
   "source": [
    "np.zeros(shape=(5,3))"
   ]
  },
  {
   "cell_type": "code",
   "execution_count": null,
   "metadata": {},
   "outputs": [],
   "source": [
    "np.linspace(0,10,21)"
   ]
  },
  {
   "cell_type": "markdown",
   "metadata": {},
   "source": [
    "the last one `linspace` is a very useful way to define arrays for engineering applications. It stands for linear space. What it does is that it produces an array from the first parameter to the second parameter with a total of third parameter numbers. "
   ]
  },
  {
   "cell_type": "markdown",
   "metadata": {},
   "source": [
    "We can then do all sorts of mathematics on Arrays. Have a look at the following:"
   ]
  },
  {
   "cell_type": "code",
   "execution_count": null,
   "metadata": {},
   "outputs": [],
   "source": [
    "x1=np.array([np.sqrt(2)/2, np.sqrt(2)/2,1.0])\n",
    "x2=np.array([np.sqrt(2)/2, -np.sqrt(2)/2,0.0])\n",
    "y1 = 2.0*x1\n",
    "z=x1+x2\n",
    "w=x1*x2\n",
    "y2=2.0+x1\n",
    "\n",
    "print(\"x1=\",x1)\n",
    "print(\"x2=\",x2)\n",
    "print(\"y1=\",y1)\n",
    "print(\"z=\",z)\n",
    "print(\"w=\",w)\n",
    "print(\"y2=\",y2)"
   ]
  },
  {
   "cell_type": "markdown",
   "metadata": {},
   "source": [
    "## Plotting with MatPlotLib\n",
    "\n",
    "**Matplotlib** is a widely used Python library for creating static, animated, and interactive visualisations. It offers a flexible framework for generating various types of plots, such as line charts, bar graphs, histograms, and scatter plots. Matplotlib is often utilised in scientific computing, data analysis, and engineering due to its ability to produce high-quality, publication-ready graphics.\n",
    "\n",
    "Within Matplotlib, **pyplot** is a module that provides a simpler interface for creating plots with minimal code. It simplifies the process by managing figure creation, plot construction, and rendering, making it easier to generate quick visualisations without needing to handle the underlying complexities of Matplotlib directly.\n",
    "\n",
    "Let's start with importing `pyplot`"
   ]
  },
  {
   "cell_type": "code",
   "execution_count": 10,
   "metadata": {},
   "outputs": [],
   "source": [
    "import matplotlib.pyplot as plt"
   ]
  },
  {
   "cell_type": "markdown",
   "metadata": {},
   "source": [
    "Here is an example of using the library to visualise $y=x^2$:"
   ]
  },
  {
   "cell_type": "code",
   "execution_count": null,
   "metadata": {},
   "outputs": [],
   "source": [
    "\n",
    "# Data for plotting\n",
    "x = np.linspace(0,10,100)\n",
    "y = x**2\n",
    "\n",
    "# Create the plot\n",
    "plt.plot(x, y)\n",
    "\n",
    "# Display the plot\n",
    "plt.show()\n"
   ]
  },
  {
   "cell_type": "markdown",
   "metadata": {},
   "source": [
    "there are options we can use to modify the plot style. See this example:"
   ]
  },
  {
   "cell_type": "code",
   "execution_count": null,
   "metadata": {},
   "outputs": [],
   "source": [
    "# Let us change the line style and colour\n",
    "plt.plot(x, y, linewidth = 3, linestyle = 'dashdot', color = 'black')\n",
    "\n",
    "# Add a title and labels\n",
    "plt.title('Example Line Plot')\n",
    "plt.xlabel('Displacement (mm)')\n",
    "plt.ylabel('Force (N)', fontsize=14)\n",
    "plt.tick_params(axis=\"x\", labelsize=12)\n",
    "plt.ylim(0,150)\n",
    "\n",
    "# Display the plot\n",
    "plt.show()"
   ]
  },
  {
   "cell_type": "markdown",
   "metadata": {},
   "source": [
    "### Exercise\n",
    "\n",
    "plot the following graphs for $x=(0,2\\pi)$ and format them to include axis labels:\n",
    "\n",
    "$y=\\sin(x)$\n",
    "\n",
    "$y=\\tan(x)$\n",
    "\n",
    "$y=e^x$\n",
    "\n",
    "$y=\\log(x)$\n"
   ]
  },
  {
   "cell_type": "code",
   "execution_count": 13,
   "metadata": {},
   "outputs": [],
   "source": [
    "# write your script here:\n"
   ]
  },
  {
   "cell_type": "markdown",
   "metadata": {},
   "source": [
    "### Scatter plots\n",
    "\n",
    "A scatter plot is a type of plot that displays individual data points as markers (such as dots) on a two-dimensional plane, with one variable plotted along the x-axis and the other along the y-axis. Scatter plots are useful for visualising the relationship between two variables, helping to identify patterns, correlations, or trends within the data.\n",
    "\n",
    "Scatter plots are particularly important in data analysis because they allow us to:\n",
    "\n",
    "* Identify relationships: Scatter plots can reveal whether two variables have a linear, non-linear, or no relationship at all.\n",
    "* Detect outliers: Points that deviate significantly from the general pattern can be easily identified.\n",
    "* Assess variability: They show how much variation exists in the data, both in terms of the spread of the points and clustering patterns.\n",
    "\n",
    "Here is a simple example of creating a scatter plot using `pyplot`:"
   ]
  },
  {
   "cell_type": "code",
   "execution_count": null,
   "metadata": {},
   "outputs": [],
   "source": [
    "# Data for plotting\n",
    "x = np.array([4, 10, 7, 5, 2, 0])\n",
    "y = np.array([22.8, 55.5, 38.6, 28.5, 11.3, 7.2])\n",
    "\n",
    "# Create a scatter plot\n",
    "plt.scatter(x, y, color='red',label='my data')\n",
    "\n",
    "# Add a legend and labels\n",
    "plt.xlabel('X')\n",
    "plt.ylabel('Y')\n",
    "plt.legend()\n",
    "\n",
    "# Display the plot\n",
    "plt.show()\n"
   ]
  },
  {
   "cell_type": "markdown",
   "metadata": {},
   "source": [
    "### Saving figures for use elsewhere\n",
    "\n",
    "You may wish to save your plots to use in reports, etc. You can do this by the `savefig` function:"
   ]
  },
  {
   "cell_type": "code",
   "execution_count": null,
   "metadata": {},
   "outputs": [],
   "source": [
    "# Data for plotting\n",
    "x = np.array([4, 10, 7, 5, 2, 0])\n",
    "y = np.array([22.8, 55.5, 38.6, 28.5, 11.3, 7.2])\n",
    "\n",
    "# Create a scatter plot\n",
    "plt.scatter(x, y, color='red',label='my data')\n",
    "\n",
    "# Add a legend and labels\n",
    "plt.xlabel('X')\n",
    "plt.ylabel('Y')\n",
    "plt.legend()\n",
    "\n",
    "plt.savefig('example_scatter_plot.jpg', dpi=300, bbox_inches='tight') #dpi stands for dots per inch and indicates how fine a resolution python will use for saving the figure"
   ]
  },
  {
   "cell_type": "markdown",
   "metadata": {},
   "source": [
    "**note** that you can replace `jpg` with `png` or `pdf` to save the image in different formats. The `bbox_inches='tight'` tells Python not to leave too much whitespace around the figure which is usually a good thing if you want to use it in a report or presentation. **Make sure you save the figures at a high resolution for your reports as precision in visualisation of information is critical in engineering communications**."
   ]
  },
  {
   "cell_type": "markdown",
   "metadata": {},
   "source": [
    "### Multiple plots on the same axis"
   ]
  },
  {
   "cell_type": "markdown",
   "metadata": {},
   "source": [
    "We can create multiple plots on the same axis. Look at the following example which puts two line plots and a scatter plot on the same axis:"
   ]
  },
  {
   "cell_type": "code",
   "execution_count": null,
   "metadata": {},
   "outputs": [],
   "source": [
    "import matplotlib.pyplot as plt\n",
    "\n",
    "# Data for plotting\n",
    "x = np.linspace(1,5,15)\n",
    "y1 = x**2  # y = x^2\n",
    "y2 = np.random.randint(1,125,size=15)    # This is the NumPy syntax for generating an array of 15 random numbers between 1 and 125, more on this later\n",
    "y3 = x**3 # y = x^3\n",
    "\n",
    "# Create the figure and plot\n",
    "plt.plot(x, y1, label='y = x^2', color='blue')  # First line plot\n",
    "plt.plot(x, y3, label='y = x^3', color='green') # Second line plot\n",
    "plt.scatter(x, y2, label='Scatter data', color='red') # Scatter plot\n",
    "\n",
    "# Add title and labels\n",
    "plt.title('Line and Scatter Plots on the Same Axis')\n",
    "plt.xlabel('X-axis')\n",
    "plt.ylabel('Y-axis')\n",
    "\n",
    "# Add a legend\n",
    "plt.legend()\n",
    "\n",
    "# Display the plot\n",
    "plt.savefig(\"combined_plot.jpg\",dpi=300,bbox_inches='tight')\n"
   ]
  },
  {
   "cell_type": "markdown",
   "metadata": {},
   "source": [
    "## Pandas"
   ]
  },
  {
   "cell_type": "markdown",
   "metadata": {},
   "source": [
    "`Pandas` is a powerful data manipulation and analysis library in Python, designed to make working with structured data both easy and efficient. It is particularly well-suited for handling large amounts of data due to its versatile data structures, such as DataFrames (two-dimensional, table-like data) and Series (one-dimensional data).\n",
    "\n",
    "One of the key strengths of Pandas is its ability to read and write data from various formats, with just a few lines of code. This makes managing large datasets more straightforward, as Pandas automates much of the tedious work of loading, cleaning, and exporting data.\n",
    "\n",
    "In scientific research and data analysis, datasets are often stored in **CSV (Comma-Separated Values)** format due to its simplicity and wide compatibility across different platforms and software. CSV files are plain text files that contain tabular data, making them ideal for storing large amounts of scientific measurements, experimental results, and sensor data.\n",
    "\n",
    "For instance, in a study of wind power generation, one might track the generated power over time. This data could be stored in a CSV file with columns representing time, wind speed, power generated and possibly other variables such as temperature. So, for example data that looks like this:\n",
    "\n",
    "| Time (minutes) | Wind Speed (m/s) | Rotor Speed (rpm) | Power Generated (kW) | Temperature (°C) |\n",
    "|----------------|------------------|-------------------|----------------------|------------------|\n",
    "| 0              | 10.9             | 14                | 2821.1               | 20.0             |\n",
    "| 10             | 11.7             | 15                | 3507.2               | 20.3             |\n",
    "| 20             | 9.5              | 12                | 1871.0               | 20.6             |\n",
    "| 30             | 10.2             | 13                | 2276.3               | 20.9             |\n",
    "| 40             | 10.4             | 13                | 2410.8               | 21.3             |\n",
    "| ...            | ...              | ...               | ...                  | ...              |\n",
    "\n",
    "will appear like this in the CSV file:\n",
    "\n",
    "```csv\n",
    "Time (minutes),Wind Speed (m/s),Rotor Speed (rpm),Power Generated (kW),Temperature (deg_C)\n",
    "0,10.9,14,2821.1,20.0\n",
    "10,11.7,15,3507.2,20.3\n",
    "20,9.5,12,1871.0,20.6\n",
    "30,10.2,13,2276.3,20.9\n",
    "40,10.4,13,2410.8,21.3\n",
    "...\n"
   ]
  },
  {
   "cell_type": "markdown",
   "metadata": {},
   "source": [
    "now let's import `Pandas` and get started with using this data which has been provided to you in the `Wind_Turbine_Data_24h.csv` file."
   ]
  },
  {
   "cell_type": "code",
   "execution_count": 17,
   "metadata": {},
   "outputs": [],
   "source": [
    "import pandas as pd # this may produce a warning the first time you run it, you can safely ignore the warning for now."
   ]
  },
  {
   "cell_type": "markdown",
   "metadata": {},
   "source": [
    "Pandas uses `Dataframes` (a variable type that we have not yet seen) to store the data. We can read all of the data in the CSV file and create a dataframe with a single command:"
   ]
  },
  {
   "cell_type": "code",
   "execution_count": 18,
   "metadata": {},
   "outputs": [],
   "source": [
    "wind_data=pd.read_csv(\"Wind_Turbine_Data_24h.csv\")"
   ]
  },
  {
   "cell_type": "markdown",
   "metadata": {},
   "source": [
    "Now we can test what we will get if we try to print this variable:"
   ]
  },
  {
   "cell_type": "code",
   "execution_count": null,
   "metadata": {},
   "outputs": [],
   "source": [
    "print(wind_data)"
   ]
  },
  {
   "cell_type": "markdown",
   "metadata": {},
   "source": [
    "Dataframes have lots of useful functions that allow the data to be investigated. For example:"
   ]
  },
  {
   "cell_type": "code",
   "execution_count": null,
   "metadata": {},
   "outputs": [],
   "source": [
    "wind_data.head(5)"
   ]
  },
  {
   "cell_type": "code",
   "execution_count": null,
   "metadata": {},
   "outputs": [],
   "source": [
    "wind_data.tail(10)"
   ]
  },
  {
   "cell_type": "code",
   "execution_count": null,
   "metadata": {},
   "outputs": [],
   "source": [
    "wind_data.loc[27] #note the square bracket instead of the normal bracket"
   ]
  },
  {
   "cell_type": "code",
   "execution_count": null,
   "metadata": {},
   "outputs": [],
   "source": [
    "wind_data.shape"
   ]
  },
  {
   "cell_type": "code",
   "execution_count": null,
   "metadata": {},
   "outputs": [],
   "source": [
    "print(wind_data[\"Wind Speed (m/s)\"].mean())"
   ]
  },
  {
   "cell_type": "code",
   "execution_count": null,
   "metadata": {},
   "outputs": [],
   "source": [
    "wind_data[\"Temperature (deg_C)\"].max()"
   ]
  },
  {
   "cell_type": "code",
   "execution_count": null,
   "metadata": {},
   "outputs": [],
   "source": [
    "wind_data.median()"
   ]
  },
  {
   "cell_type": "code",
   "execution_count": null,
   "metadata": {},
   "outputs": [],
   "source": [
    "wind_data[\"Power Generated (kW)\"]>2000"
   ]
  },
  {
   "cell_type": "code",
   "execution_count": null,
   "metadata": {},
   "outputs": [],
   "source": [
    "wind_data.mask(wind_data[\"Power Generated (kW)\"]<2000)"
   ]
  },
  {
   "cell_type": "code",
   "execution_count": null,
   "metadata": {},
   "outputs": [],
   "source": [
    "wind_data.describe()"
   ]
  },
  {
   "cell_type": "markdown",
   "metadata": {},
   "source": [
    "### Getting `NumPy` arrays from `Dataframes`\n",
    "\n",
    "We can take a specific column from the dataframe and put it in a NumPy array. For example, we can put time and wind speed in two arrays like this:"
   ]
  },
  {
   "cell_type": "code",
   "execution_count": 32,
   "metadata": {},
   "outputs": [],
   "source": [
    "wind_speed=wind_data[\"Wind Speed (m/s)\"].to_numpy()\n",
    "rotor_speed=wind_data[\"Rotor Speed (rpm)\"].to_numpy()"
   ]
  },
  {
   "cell_type": "markdown",
   "metadata": {},
   "source": [
    "now we can use these numpy arrays to do things like plotting:"
   ]
  },
  {
   "cell_type": "code",
   "execution_count": null,
   "metadata": {},
   "outputs": [],
   "source": [
    "import matplotlib.pyplot as plt\n",
    "\n",
    "plt.scatter(wind_speed, rotor_speed, label='Speed', color='blue') # Scatter plot\n",
    "\n",
    "# Add title and labels\n",
    "plt.title('Wind and Rotor Speed')\n",
    "plt.xlabel('wind speed (m/s)')\n",
    "plt.ylabel('rotor speed (rpm)')"
   ]
  },
  {
   "cell_type": "markdown",
   "metadata": {},
   "source": [
    "There seems to be a linear relationship between the two entities. So let's fit a line and plot that too. Remember that if we wanted to fit a line to data knowing that $(0,0)$ is on the line we can use the model $y=mx$ where $m=\\frac{\\sum{x_i,y_i}}{\\sum{x_i^2}}$ and $x_i,y_i$ is the data point $i$. So let's calculate $m$:"
   ]
  },
  {
   "cell_type": "code",
   "execution_count": null,
   "metadata": {},
   "outputs": [],
   "source": [
    "xy=wind_speed*rotor_speed #this creates an nparray with each element the result of multiplication of the corresponding elements from the two nparrays\n",
    "x2=wind_speed*wind_speed  #this creates an nparray with each element the result of multiplication of the corresponding element from the nparray by itself, squaring it.\n",
    "sxy=xy.sum() #this adds all of the nparray together and reports the sum\n",
    "sx2=x2.sum()\n",
    "m=sxy/sx2\n",
    "\n",
    "print(f\"{m:.4f}\")"
   ]
  },
  {
   "cell_type": "markdown",
   "metadata": {},
   "source": [
    "and now we need to create a series of points on the $x$ axis and calculate the corresponding $y$ coordinate using our equation $y=mx$ to plot the points:"
   ]
  },
  {
   "cell_type": "code",
   "execution_count": null,
   "metadata": {},
   "outputs": [],
   "source": [
    "x=np.linspace(0,18,10)\n",
    "y=m*x\n",
    "\n",
    "plt.plot(x,y, label='approx Speed', color='red')\n",
    "\n",
    "plt.title('Wind and linear approximation of Rotor Speed')\n",
    "plt.xlabel('wind speed (m/s)')\n",
    "plt.ylabel('linear approximation of rotor speed (rpm)')"
   ]
  },
  {
   "cell_type": "markdown",
   "metadata": {},
   "source": [
    "Now let's put both on the same plot:"
   ]
  },
  {
   "cell_type": "code",
   "execution_count": null,
   "metadata": {},
   "outputs": [],
   "source": [
    "plt.scatter(wind_speed, rotor_speed, label='Speed', color='blue') # Scatter plot of data\n",
    "plt.plot(x,y, label='approx Speed', color='red') # plotting the fitter line\n",
    "\n",
    "# Add title and labels\n",
    "plt.title('Wind and Rotor Speed')\n",
    "plt.xlabel('wind speed (m/s)')\n",
    "plt.ylabel('rotor speed (rpm)')"
   ]
  },
  {
   "cell_type": "markdown",
   "metadata": {},
   "source": [
    "### Manipulating data in Dataframes\n",
    "\n",
    "We can change the data in dataframes. For example, let's say we are interested in changing our wind turbine data so that we are storing the wind speed in miles per hour rather than meters per second. The following command adds a new column to my dataframe which will contain speeds in miles per hour. The formulat to convert speed from m/s to mph is: $ \\text{m/s} = 2.23694 \\, \\text{mph}$"
   ]
  },
  {
   "cell_type": "code",
   "execution_count": 66,
   "metadata": {},
   "outputs": [],
   "source": [
    "wind_data['Wind Speed (mph)'] = wind_data['Wind Speed (m/s)'] * 2.23694"
   ]
  },
  {
   "cell_type": "markdown",
   "metadata": {},
   "source": [
    "let's now check the first 5 lines:"
   ]
  },
  {
   "cell_type": "code",
   "execution_count": null,
   "metadata": {},
   "outputs": [],
   "source": [
    "wind_data.head(5)"
   ]
  },
  {
   "cell_type": "markdown",
   "metadata": {},
   "source": [
    "looks OK, so perhaps now we can delete the old column and make a new dataframe:"
   ]
  },
  {
   "cell_type": "code",
   "execution_count": 68,
   "metadata": {},
   "outputs": [],
   "source": [
    "new_wind_data=wind_data.drop(columns=['Wind Speed (m/s)'])"
   ]
  },
  {
   "cell_type": "markdown",
   "metadata": {},
   "source": [
    "let's check:"
   ]
  },
  {
   "cell_type": "code",
   "execution_count": null,
   "metadata": {},
   "outputs": [],
   "source": [
    "new_wind_data.head(5)"
   ]
  },
  {
   "cell_type": "markdown",
   "metadata": {},
   "source": [
    "We can also make edits to the data in the Dataframe in place, without creating a new Dataframe. For example, let's say we want to round the wind speed to 1 decimal place:"
   ]
  },
  {
   "cell_type": "code",
   "execution_count": null,
   "metadata": {},
   "outputs": [],
   "source": [
    "new_wind_data['Wind Speed (mph)'] = new_wind_data['Wind Speed (mph)'].round(1)\n",
    "new_wind_data.head(5)"
   ]
  },
  {
   "cell_type": "markdown",
   "metadata": {},
   "source": [
    "### Writing CSV files\n",
    "\n",
    "As you may expect, we can also write CSV files easily from dataframes. Let's save our mph wind speed data to a csv file called `wind_mph.csv`"
   ]
  },
  {
   "cell_type": "code",
   "execution_count": 60,
   "metadata": {},
   "outputs": [],
   "source": [
    "new_wind_data.to_csv(\"wind_mph.csv\",index=False) # check what happens when we do not include index=False"
   ]
  },
  {
   "cell_type": "markdown",
   "metadata": {},
   "source": [
    "### Exercise\n",
    "\n",
    "Write code to plot the power generated against wind speed. See if you spot a likely relationship and if you can think of a model $y=f(x)$ that may fit the data. Try and fit the model and then plot both together."
   ]
  },
  {
   "cell_type": "code",
   "execution_count": null,
   "metadata": {},
   "outputs": [],
   "source": [
    "#write code here:"
   ]
  },
  {
   "cell_type": "markdown",
   "metadata": {},
   "source": [
    "### Bonus question\n",
    "\n",
    "How big is this wind turbine?"
   ]
  },
  {
   "cell_type": "markdown",
   "metadata": {},
   "source": []
  }
 ],
 "metadata": {
  "kernelspec": {
   "display_name": "Python 3",
   "language": "python",
   "name": "python3"
  },
  "language_info": {
   "codemirror_mode": {
    "name": "ipython",
    "version": 3
   },
   "file_extension": ".py",
   "mimetype": "text/x-python",
   "name": "python",
   "nbconvert_exporter": "python",
   "pygments_lexer": "ipython3",
   "version": "3.11.8"
  }
 },
 "nbformat": 4,
 "nbformat_minor": 4
}
